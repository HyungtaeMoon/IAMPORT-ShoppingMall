{
 "cells": [
  {
   "cell_type": "markdown",
   "metadata": {},
   "source": [
    "### 쇼핑몰 만들기(아임포트 연동)"
   ]
  },
  {
   "cell_type": "markdown",
   "metadata": {},
   "source": [
    "네이버쇼핑몰에서 '코트'라는 이름으로 검색해보자.\n",
    "\n",
    "`https://search.shopping.naver.com/search/all.nhn?query=%'코트'&cat_id=&frm=NVSHATC`\n",
    "\n",
    "\n",
    "<br>\n",
    "\n",
    "\n",
    "복사한 url 주소를 jupyter notebook 에 붙여넣으면 바이너리 코드로 나오게 된다.\n",
    "`query=%EC%BD%94%ED%8A%B8&cat_id=&frm=NVSHATC`\n",
    "\n",
    "<br>\n",
    "\n",
    "query 다음에 나오는 바이너리 코드가 바로 '코트'가 되는데 확인하는 방법은 아래와 같다.\n",
    "\n",
    "<br>\n",
    "\n",
    "```python\n",
    "*utf8로 인코딩하기\n",
    "$ '코트'.encode('utf8')\n",
    "\n",
    "output: b'\\xec\\xbd\\x94\\xed\\x8a\\xb8'\n",
    "\n",
    "```\n"
   ]
  },
  {
   "cell_type": "markdown",
   "metadata": {},
   "source": [
    "\n",
    "\n"
   ]
  },
  {
   "cell_type": "markdown",
   "metadata": {},
   "source": [
    "## 실제로 크롤링을 해보기\n",
    "\n"
   ]
  },
  {
   "cell_type": "code",
   "execution_count": 1,
   "metadata": {},
   "outputs": [],
   "source": [
    "import requests\n",
    "from bs4 import BeautifulSoup"
   ]
  },
  {
   "cell_type": "code",
   "execution_count": 2,
   "metadata": {},
   "outputs": [],
   "source": [
    "url = 'https://search.shopping.naver.com/search/all.nhn'\n",
    "\n",
    "params = {'query': '코트'}\n",
    "\n",
    "response = requests.get(url, params=params)\n",
    "\n",
    "html = response.text\n",
    "soup = BeautifulSoup(html, 'html.parser')"
   ]
  },
  {
   "cell_type": "code",
   "execution_count": 3,
   "metadata": {},
   "outputs": [],
   "source": [
    "def trim(s):\n",
    "    return ' '.join(s.split())"
   ]
  },
  {
   "cell_type": "code",
   "execution_count": 4,
   "metadata": {},
   "outputs": [],
   "source": [
    "for item_tag in soup.select('#_search_list ._itemSection'):\n",
    "    name = trim(item_tag.select('a.tit')[0].text)\n",
    "    price = trim(item_tag.select('.price .num')[0].text.replace(',', ''))\n",
    "    img = item_tag.select('img[data-original]')[0]['data-original']\n",
    "    \n",
    "#     print(name, price, img)\n"
   ]
  },
  {
   "cell_type": "markdown",
   "metadata": {},
   "source": [
    "\n"
   ]
  },
  {
   "cell_type": "markdown",
   "metadata": {},
   "source": [
    "### 검색 모듈화\n",
    "\n",
    "-------------------\n",
    "\n",
    "query 에 실제 입력하고 싶은 검색어 '운동화', '롱패딩' 등을 입력해서 간편히 사용할 수 있는 모듈을 완성해보자."
   ]
  },
  {
   "cell_type": "code",
   "execution_count": 7,
   "metadata": {},
   "outputs": [],
   "source": [
    "import sys\n",
    "\n",
    "def main(query):\n",
    "    url = 'https://search.shopping.naver.com/search/all.nhn'\n",
    "    params = {'query': query}\n",
    "    response = requests.get(url, params=params)\n",
    "    html = response.text\n",
    "    soup = BeautifulSoup(html, 'html.parser')\n",
    "\n",
    "    def trim(s):\n",
    "        return ' '.join(s.split())\n",
    "\n",
    "    for item_tag in soup.select('#_search_list ._itemSection'):\n",
    "        name = trim(item_tag.select('a.tit')[0].text)\n",
    "        price = trim(item_tag.select('.price .num')[0].text.replace(',', ''))\n",
    "        img = item_tag.select('img[data-original]')[0]['data-original']\n",
    "        print(name, price, img)\n",
    "\n",
    "\n",
    "if __name__ == '__main__':\n",
    "    try:\n",
    "        query = sys.argv[1]\n",
    "        main(query)\n",
    "    except IndexError:\n",
    "        print('usage {} <query>'.format(sys.argv[0]))\n"
   ]
  },
  {
   "cell_type": "code",
   "execution_count": 6,
   "metadata": {},
   "outputs": [
    {
     "name": "stdout",
     "output_type": "stream",
     "text": [
      "스니커즈 클라시코 그레이 6081 (Classico Grey 6081) 188000 https://shopping-phinf.pstatic.net/main_8061702/80617027380.1.jpg?type=f140\n",
      "[아키클래식] 루나 키높이운동화 스니커즈 53100 https://search.pstatic.net/common/?src=http%3A%2F%2Fadimg.search.naver.net%2Fo%2Fncc_shopping_201809%2F13%2Fnad-a001-02-000000042231856_e20524a1-6fb2-42de-888d-6570dc97223f.png&type=w&size=200\n",
      "[페이퍼플레인 키높이운동화] PP1337화이트 34800 https://shopping-phinf.pstatic.net/main_7220811/7220811842.1.jpg?type=f140\n",
      "본필 가벼운 메쉬운동화 모음전 27500 https://shopping-phinf.pstatic.net/main_8071068/80710685263.1.jpg?type=f140\n",
      "아디다스 남여공용 스니커즈 우먼스 팔콘 트레이닝 운동화 매장정품 테라슈 B28128 68940 https://shopping-phinf.pstatic.net/main_1527297/15272971760.20181014235606.jpg?type=f140\n",
      "아디다스 오리지널스 오리지널 originals 팔콘 B28129 67500 https://shopping-phinf.pstatic.net/main_1521076/15210760746.20180903101322.jpg?type=f140\n",
      "폴더 휠라 fila b 디스럽터2 FS1HTA1071XW 60030 https://shopping-phinf.pstatic.net/main_1554065/15540650338.20181025221421.jpg?type=f140\n",
      "휠라아웃도어 휠라 fila 디스럽터 핑크플라밍고 wpk FS1HTA1074X 55200 https://shopping-phinf.pstatic.net/main_1561819/15618199410.20181009213313.jpg?type=f140\n",
      "휠라 디스럽터2 운동화 FS1HTA1071X 51249 https://shopping-phinf.pstatic.net/main_1484373/14843738550.20180816142202.jpg?type=f140\n",
      "나이키 에어맥스 올백 흰검 air max 609048109 43890 https://shopping-phinf.pstatic.net/main_1575014/15750145679.20181021000640.jpg?type=f140\n",
      "해외나이키 아웃솔 에어맥스97 gs 미드나잇 하바네로 921522402 148500 https://shopping-phinf.pstatic.net/main_1556250/15562507226.20181028005016.jpg?type=f140\n",
      "아디다스 팔콘 우먼스 어글리 슈즈 falcon 6종 F35269 F35270 68850 https://shopping-phinf.pstatic.net/main_1513682/15136820236.20180823222722.jpg?type=f140\n",
      "나이키 에어 맥스 울트라 메탈릭 총알 air max ultra bullet 918356003 918356001 167200 https://shopping-phinf.pstatic.net/main_1563960/15639600510.20181017030310.jpg?type=f140\n",
      "해외나이키 에어 테일윈드 og 블루그레이 air tailwind BQ5878001 134000 https://shopping-phinf.pstatic.net/main_1575979/15759792141.20181028040209.jpg?type=f140\n",
      "에어맥스 엑시스 air max axis 73900 https://shopping-phinf.pstatic.net/main_1537448/15374482142.20181017014521.jpg?type=f140\n",
      "푸마 썬더 스펙트라 36751612 169000 https://shopping-phinf.pstatic.net/main_1509750/15097501580.20180825103814.jpg?type=f140\n",
      "에어맥스 2017 74800 https://shopping-phinf.pstatic.net/main_8026705/80267052713.4.jpg?type=f140\n",
      "나이키 우먼스 m2k 테크노 검흰 wmns tekno AO3108003 60940 https://shopping-phinf.pstatic.net/main_1529150/15291507055.20181007235139.jpg?type=f140\n",
      "휠라 fila 디스럽터2 FS1HTA1071X 51249 https://shopping-phinf.pstatic.net/main_1534866/15348666558.20181012232024.jpg?type=f140\n",
      "나이키 우먼스 m2k 테크노 c8 AO3108003 68550 https://shopping-phinf.pstatic.net/main_1556243/15562437488.20181007182828.jpg?type=f140\n",
      "아디다스 운동화 갤럭시 m 런닝화 CP8822 PNC02 CP8822 44500 https://shopping-phinf.pstatic.net/main_1521587/15215879778.20181014000201.jpg?type=f140\n",
      "[롯데백화점]베이퍼맥스/에어포스 세이지外 인기 신상모음! 125100 https://shopping-phinf.pstatic.net//20180620_21/efd8524a-a691-4c10-b7ca-9422346ce7ff.jpg?type=ofullfill_200_200\n",
      "매장판정품 남성사이즈 a s 푸마 썬더스펙트라 위스퍼 179000 https://shopping-phinf.pstatic.net/main_1561063/15610630745.20181007210632.jpg?type=f140\n",
      "플렉시 3600 겨울은 이거 하나면 끝 방한운동화 9900 https://shopping-phinf.pstatic.net//20181028_17/f41b31ff-6510-42da-848c-07aa66336ea6.jpg?type=ofullfill_200_200\n",
      "나이키 우먼스 에어 맥스 엑시스 wmns air max axis AA2168 76730 https://shopping-phinf.pstatic.net/main_1499376/14993763085.20180830104721.jpg?type=f140\n",
      "해외나이키 에어맥스 97 팬텀 베이지 271500 https://shopping-phinf.pstatic.net/main_8080425/80804257035.jpg?type=f140\n",
      "해외나이키 에어맥스97 트리플 화이트 921826-101 109000 https://shopping-phinf.pstatic.net/main_8087748/80877480438.jpg?type=f140\n",
      "나이키 에어맥스 97 실버 트리플화이트 블랙 187000 https://shopping-phinf.pstatic.net/main_8122119/81221198679.jpg?type=f140\n",
      "리복 클래식남여공용 워너원 착장 dmx cn7591 CN7591 61090 https://shopping-phinf.pstatic.net/main_1521089/15210893133.20181024224811.jpg?type=f140\n",
      "나이키 에어맥스 러닝화 849559-004 블랙 41230 https://shopping-phinf.pstatic.net/main_1118933/11189333202.20170404102028.jpg?type=f140\n",
      "나이키 우먼스 에어맥스97 트리플 wmns air max triple 921733100 90770 https://shopping-phinf.pstatic.net/main_1502254/15022548935.20181017023231.jpg?type=f140\n",
      "리복 ★워너원단독룩북증정★ 남여공용 워너원 아즈트렉 흰검 CN7187 58000 https://shopping-phinf.pstatic.net/main_1535625/15356257043.20181009213053.jpg?type=f140\n",
      "나이키 에어 베이퍼맥스 플라이니트 942842103 942843103 82000 https://shopping-phinf.pstatic.net/main_1569807/15698070061.20181019002017.jpg?type=f140\n",
      "해외뉴발란스 트리플블랙 올검 M990BB4 135750 https://shopping-phinf.pstatic.net/main_1493760/14937607926.20180923181109.jpg?type=f140\n",
      "나이키 에어맥스 엑시스 런닝화 AA2146100 56990 https://shopping-phinf.pstatic.net/main_1496987/14969873309.20181017030246.jpg?type=f140\n",
      "나이키 에어 허라취 런 울트라 러닝화 819151-008 블랙 48760 https://shopping-phinf.pstatic.net/main_1082698/10826981624.20170104143101.jpg?type=f140\n",
      "아디다스 CITY MARATHON PT D67397 68000 https://shopping-phinf.pstatic.net/main_7610015/7610015517.20160816164947.jpg?type=f140\n",
      "나이키 에어맥스 2017 블랙 70000 https://shopping-phinf.pstatic.net/main_1294833/12948333175.1.jpg?type=f140\n",
      "아디다스 originals 스니커즈100정품보증 YUNG1 165000 https://shopping-phinf.pstatic.net/main_1573564/15735642223.20181022233410.jpg?type=f140\n",
      "리복 태민착장 남여공용 cl 나일론 sp CN3629 31240 https://shopping-phinf.pstatic.net/main_1562614/15626140260.20181011012522.jpg?type=f140\n",
      "나이키 매장판정품 우먼스 에어 프레스토 air presto 878068001 52030 https://shopping-phinf.pstatic.net/main_1554088/15540888758.20181004015205.jpg?type=f140\n",
      "판매BEST 이슈 운동화만 모았다~! 나이키/아디다스/휠라 49000 https://shopping-phinf.pstatic.net//20181024_8/41e2a975-4422-4624-a5f2-6944937e512d.jpg?type=ofullfill_200_200\n",
      "아디다스 팔콘 검핑 운동화 originals falcon trainers BB9173 97900 https://shopping-phinf.pstatic.net/main_1561045/15610453640.20181017022651.jpg?type=f140\n",
      "[휠라/스케쳐스/데상트外] 범피/딜라이트에어리/레이外 어글리슈즈 택1 33320 https://shopping-phinf.pstatic.net//20180906_17/3fbf11e2-0e83-4d77-a5a2-6b59e2904a87.jpg?type=ofullfill_200_200\n"
     ]
    }
   ],
   "source": [
    "main('운동화')"
   ]
  }
 ],
 "metadata": {
  "kernelspec": {
   "display_name": "Python 3",
   "language": "python",
   "name": "python3"
  },
  "language_info": {
   "codemirror_mode": {
    "name": "ipython",
    "version": 3
   },
   "file_extension": ".py",
   "mimetype": "text/x-python",
   "name": "python",
   "nbconvert_exporter": "python",
   "pygments_lexer": "ipython3",
   "version": "3.6.5"
  }
 },
 "nbformat": 4,
 "nbformat_minor": 2
}
